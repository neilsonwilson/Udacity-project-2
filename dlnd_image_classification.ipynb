{
 "cells": [
  {
   "cell_type": "markdown",
   "metadata": {
    "collapsed": true,
    "deletable": true,
    "editable": true
   },
   "source": [
    "# Image Classification\n",
    "In this project, you'll classify images from the [CIFAR-10 dataset](https://www.cs.toronto.edu/~kriz/cifar.html).  The dataset consists of airplanes, dogs, cats, and other objects. You'll preprocess the images, then train a convolutional neural network on all the samples. The images need to be normalized and the labels need to be one-hot encoded.  You'll get to apply what you learned and build a convolutional, max pooling, dropout, and fully connected layers.  At the end, you'll get to see your neural network's predictions on the sample images.\n",
    "## Get the Data\n",
    "Run the following cell to download the [CIFAR-10 dataset for python](https://www.cs.toronto.edu/~kriz/cifar-10-python.tar.gz)."
   ]
  },
  {
   "cell_type": "code",
   "execution_count": 3,
   "metadata": {
    "collapsed": false,
    "deletable": true,
    "editable": true
   },
   "outputs": [
    {
     "name": "stdout",
     "output_type": "stream",
     "text": [
      "All files found!\n"
     ]
    }
   ],
   "source": [
    "\"\"\"\n",
    "DON'T MODIFY ANYTHING IN THIS CELL THAT IS BELOW THIS LINE\n",
    "\"\"\"\n",
    "from urllib.request import urlretrieve\n",
    "from os.path import isfile, isdir\n",
    "from tqdm import tqdm\n",
    "import problem_unittests as tests\n",
    "import tarfile\n",
    "from sklearn import preprocessing\n",
    "\n",
    "\n",
    "cifar10_dataset_folder_path = 'cifar-10-batches-py'\n",
    "\n",
    "class DLProgress(tqdm):\n",
    "    last_block = 0\n",
    "\n",
    "    def hook(self, block_num=1, block_size=1, total_size=None):\n",
    "        self.total = total_size\n",
    "        self.update((block_num - self.last_block) * block_size)\n",
    "        self.last_block = block_num\n",
    "\n",
    "if not isfile('cifar-10-python.tar.gz'):\n",
    "    with DLProgress(unit='B', unit_scale=True, miniters=1, desc='CIFAR-10 Dataset') as pbar:\n",
    "        urlretrieve(\n",
    "            'https://www.cs.toronto.edu/~kriz/cifar-10-python.tar.gz',\n",
    "            'cifar-10-python.tar.gz',\n",
    "            pbar.hook)\n",
    "\n",
    "if not isdir(cifar10_dataset_folder_path):\n",
    "    with tarfile.open('cifar-10-python.tar.gz') as tar:\n",
    "        tar.extractall()\n",
    "        tar.close()\n",
    "\n",
    "\n",
    "tests.test_folder_path(cifar10_dataset_folder_path)"
   ]
  },
  {
   "cell_type": "markdown",
   "metadata": {
    "deletable": true,
    "editable": true
   },
   "source": [
    "## Explore the Data\n",
    "The dataset is broken into batches to prevent your machine from running out of memory.  The CIFAR-10 dataset consists of 5 batches, named `data_batch_1`, `data_batch_2`, etc.. Each batch contains the labels and images that are one of the following:\n",
    "* airplane\n",
    "* automobile\n",
    "* bird\n",
    "* cat\n",
    "* deer\n",
    "* dog\n",
    "* frog\n",
    "* horse\n",
    "* ship\n",
    "* truck\n",
    "\n",
    "Understanding a dataset is part of making predictions on the data.  Play around with the code cell below by changing the `batch_id` and `sample_id`. The `batch_id` is the id for a batch (1-5). The `sample_id` is the id for a image and label pair in the batch.\n",
    "\n",
    "Ask yourself \"What are all possible labels?\", \"What is the range of values for the image data?\", \"Are the labels in order or random?\".  Answers to questions like these will help you preprocess the data and end up with better predictions."
   ]
  },
  {
   "cell_type": "code",
   "execution_count": 2,
   "metadata": {
    "collapsed": false,
    "deletable": true,
    "editable": true
   },
   "outputs": [
    {
     "name": "stdout",
     "output_type": "stream",
     "text": [
      "\n",
      "Stats of batch 1:\n",
      "Samples: 10000\n",
      "Label Counts: {0: 1005, 1: 974, 2: 1032, 3: 1016, 4: 999, 5: 937, 6: 1030, 7: 1001, 8: 1025, 9: 981}\n",
      "First 20 Labels: [6, 9, 9, 4, 1, 1, 2, 7, 8, 3, 4, 7, 7, 2, 9, 9, 9, 3, 2, 6]\n",
      "\n",
      "Example of Image 5:\n",
      "Image - Min Value: 0 Max Value: 252\n",
      "Image - Shape: (32, 32, 3)\n",
      "Label - Label Id: 1 Name: automobile\n"
     ]
    },
    {
     "data": {
      "image/png": "[encoded data removed]",
      "text/plain": [
       "<matplotlib.figure.Figure at 0x7fe3c57463c8>"
      ]
     },
     "metadata": {
      "image/png": {
       "height": 250,
       "width": 253
      }
     },
     "output_type": "display_data"
    }
   ],
   "source": [
    "%matplotlib inline\n",
    "%config InlineBackend.figure_format = 'retina'\n",
    "\n",
    "import helper\n",
    "import numpy as np\n",
    "\n",
    "# Explore the dataset\n",
    "batch_id = 1\n",
    "sample_id = 5\n",
    "helper.display_stats(cifar10_dataset_folder_path, batch_id, sample_id)"
   ]
  },
  {
   "cell_type": "markdown",
   "metadata": {
    "deletable": true,
    "editable": true
   },
   "source": [
    "## Implement Preprocess Functions\n",
    "### Normalize\n",
    "In the cell below, implement the `normalize` function to take in image data, `x`, and return it as a normalized Numpy array. The values should be in the range of 0 to 1, inclusive.  The return object should be the same shape as `x`."
   ]
  },
  {
   "cell_type": "code",
   "execution_count": 4,
   "metadata": {
    "collapsed": false,
    "deletable": true,
    "editable": true
   },
   "outputs": [
    {
     "name": "stdout",
     "output_type": "stream",
     "text": [
      "Tests Passed\n"
     ]
    }
   ],
   "source": [
    "def normalize(x):\n",
    "    \"\"\"\n",
    "    Normalize a list of sample image data in the range of 0 to 1\n",
    "    : x: List of image data.  The image shape is (32, 32, 3)\n",
    "    : return: Numpy array of normalize data\n",
    "    \"\"\"\n",
    "    x_normalized = x / x.max(axis=0)\n",
    "    return x_normalized\n",
    "\n",
    "\n",
    "\"\"\"\n",
    "DON'T MODIFY ANYTHING IN THIS CELL THAT IS BELOW THIS LINE\n",
    "\"\"\"\n",
    "tests.test_normalize(normalize)"
   ]
  },
  {
   "cell_type": "markdown",
   "metadata": {
    "deletable": true,
    "editable": true
   },
   "source": [
    "### One-hot encode\n",
    "Just like the previous code cell, you'll be implementing a function for preprocessing.  This time, you'll implement the `one_hot_encode` function. The input, `x`, are a list of labels.  Implement the function to return the list of labels as One-Hot encoded Numpy array.  The possible values for labels are 0 to 9. The one-hot encoding function should return the same encoding for each value between each call to `one_hot_encode`.  Make sure to save the map of encodings outside the function.\n",
    "\n",
    "Hint: Don't reinvent the wheel."
   ]
  },
  {
   "cell_type": "code",
   "execution_count": 5,
   "metadata": {
    "collapsed": false,
    "deletable": true,
    "editable": true
   },
   "outputs": [
    {
     "name": "stdout",
     "output_type": "stream",
     "text": [
      "Tests Passed\n"
     ]
    }
   ],
   "source": [
    "def one_hot_encode(x):\n",
    "    \"\"\"\n",
    "    One hot encode a list of sample labels. Return a one-hot encoded vector for each label.\n",
    "    : x: List of sample Labels\n",
    "    : return: Numpy array of one-hot encoded labels\n",
    "    \"\"\"\n",
    "    lb = preprocessing.LabelBinarizer()\n",
    "    lb.classes_ = [0,1,2,3,4,5,6,7,8,9]\n",
    "\n",
    "    return lb.transform(x)\n",
    "\n",
    "\n",
    "\"\"\"\n",
    "DON'T MODIFY ANYTHING IN THIS CELL THAT IS BELOW THIS LINE\n",
    "\"\"\"\n",
    "tests.test_one_hot_encode(one_hot_encode)"
   ]
  },
  {
   "cell_type": "markdown",
   "metadata": {
    "deletable": true,
    "editable": true
   },
   "source": [
    "### Randomize Data\n",
    "As you saw from exploring the data above, the order of the samples are randomized.  It doesn't hurt to randomize it again, but you don't need to for this dataset."
   ]
  },
  {
   "cell_type": "markdown",
   "metadata": {
    "deletable": true,
    "editable": true
   },
   "source": [
    "## Preprocess all the data and save it\n",
    "Running the code cell below will preprocess all the CIFAR-10 data and save it to file. The code below also uses 10% of the training data for validation."
   ]
  },
  {
   "cell_type": "code",
   "execution_count": 6,
   "metadata": {
    "collapsed": false,
    "deletable": true,
    "editable": true
   },
   "outputs": [],
   "source": [
    "\"\"\"\n",
    "DON'T MODIFY ANYTHING IN THIS CELL\n",
    "\"\"\"\n",
    "# Preprocess Training, Validation, and Testing Data\n",
    "helper.preprocess_and_save_data(cifar10_dataset_folder_path, normalize, one_hot_encode)"
   ]
  },
  {
   "cell_type": "markdown",
   "metadata": {
    "deletable": true,
    "editable": true
   },
   "source": [
    "# Check Point\n",
    "This is your first checkpoint.  If you ever decide to come back to this notebook or have to restart the notebook, you can start from here.  The preprocessed data has been saved to disk."
   ]
  },
  {
   "cell_type": "code",
   "execution_count": 7,
   "metadata": {
    "collapsed": true,
    "deletable": true,
    "editable": true
   },
   "outputs": [],
   "source": [
    "\"\"\"\n",
    "DON'T MODIFY ANYTHING IN THIS CELL\n",
    "\"\"\"\n",
    "import pickle\n",
    "import problem_unittests as tests\n",
    "import helper\n",
    "\n",
    "# Load the Preprocessed Validation data\n",
    "valid_features, valid_labels = pickle.load(open('preprocess_validation.p', mode='rb'))"
   ]
  },
  {
   "cell_type": "markdown",
   "metadata": {
    "deletable": true,
    "editable": true
   },
   "source": [
    "## Build the network\n",
    "For the neural network, you'll build each layer into a function.  Most of the code you've seen has been outside of functions. To test your code more thoroughly, we require that you put each layer in a function.  This allows us to give you better feedback and test for simple mistakes using our unittests before you submit your project.\n",
    "\n",
    ">**Note:** If you're finding it hard to dedicate enough time for this course each week, we've provided a small shortcut to this part of the project. In the next couple of problems, you'll have the option to use classes from the [TensorFlow Layers](https://www.tensorflow.org/api_docs/python/tf/layers) or [TensorFlow Layers (contrib)](https://www.tensorflow.org/api_guides/python/contrib.layers) packages to build each layer, except the layers you build in the \"Convolutional and Max Pooling Layer\" section.  TF Layers is similar to Keras's and TFLearn's abstraction to layers, so it's easy to pickup.\n",
    "\n",
    ">However, if you would like to get the most out of this course, try to solve all the problems _without_ using anything from the TF Layers packages. You **can** still use classes from other packages that happen to have the same name as ones you find in TF Layers! For example, instead of using the TF Layers version of the `conv2d` class, [tf.layers.conv2d](https://www.tensorflow.org/api_docs/python/tf/layers/conv2d), you would want to use the TF Neural Network version of `conv2d`, [tf.nn.conv2d](https://www.tensorflow.org/api_docs/python/tf/nn/conv2d). \n",
    "\n",
    "Let's begin!\n",
    "\n",
    "### Input\n",
    "The neural network needs to read the image data, one-hot encoded labels, and dropout keep probability. Implement the following functions\n",
    "* Implement `neural_net_image_input`\n",
    " * Return a [TF Placeholder](https://www.tensorflow.org/api_docs/python/tf/placeholder)\n",
    " * Set the shape using `image_shape` with batch size set to `None`.\n",
    " * Name the TensorFlow placeholder \"x\" using the TensorFlow `name` parameter in the [TF Placeholder](https://www.tensorflow.org/api_docs/python/tf/placeholder).\n",
    "* Implement `neural_net_label_input`\n",
    " * Return a [TF Placeholder](https://www.tensorflow.org/api_docs/python/tf/placeholder)\n",
    " * Set the shape using `n_classes` with batch size set to `None`.\n",
    " * Name the TensorFlow placeholder \"y\" using the TensorFlow `name` parameter in the [TF Placeholder](https://www.tensorflow.org/api_docs/python/tf/placeholder).\n",
    "* Implement `neural_net_keep_prob_input`\n",
    " * Return a [TF Placeholder](https://www.tensorflow.org/api_docs/python/tf/placeholder) for dropout keep probability.\n",
    " * Name the TensorFlow placeholder \"keep_prob\" using the TensorFlow `name` parameter in the [TF Placeholder](https://www.tensorflow.org/api_docs/python/tf/placeholder).\n",
    "\n",
    "These names will be used at the end of the project to load your saved model.\n",
    "\n",
    "Note: `None` for shapes in TensorFlow allow for a dynamic size."
   ]
  },
  {
   "cell_type": "code",
   "execution_count": 8,
   "metadata": {
    "collapsed": false,
    "deletable": true,
    "editable": true
   },
   "outputs": [
    {
     "name": "stdout",
     "output_type": "stream",
     "text": [
      "Image Input Tests Passed.\n",
      "Label Input Tests Passed.\n",
      "Keep Prob Tests Passed.\n"
     ]
    }
   ],
   "source": [
    "import tensorflow as tf\n",
    "\n",
    "def neural_net_image_input(image_shape):\n",
    "    \"\"\"\n",
    "    Return a Tensor for a bach of image input\n",
    "    : image_shape: Shape of the images\n",
    "    : return: Tensor for image input.\n",
    "    \"\"\"\n",
    "    height = image_shape[0]\n",
    "    width = image_shape[1]\n",
    "    colors = image_shape[2]\n",
    "    output = tf.placeholder(tf.float32, shape=[None,height,width,colors], name='x')\n",
    "    return output\n",
    "\n",
    "\n",
    "def neural_net_label_input(n_classes):\n",
    "    \"\"\"\n",
    "    Return a Tensor for a batch of label input\n",
    "    : n_classes: Number of classes\n",
    "    : return: Tensor for label input.\n",
    "    \"\"\"\n",
    "    output = tf.placeholder(tf.float32, shape=[None,n_classes], name='y')\n",
    "    return output\n",
    "\n",
    "\n",
    "def neural_net_keep_prob_input():\n",
    "    \"\"\"\n",
    "    Return a Tensor for keep probability\n",
    "    : return: Tensor for keep probability.\n",
    "    \"\"\"\n",
    "    output = tf.placeholder(tf.float32, shape=None, name='keep_prob')\n",
    "    return output\n",
    "\n",
    "\n",
    "\"\"\"\n",
    "DON'T MODIFY ANYTHING IN THIS CELL THAT IS BELOW THIS LINE\n",
    "\"\"\"\n",
    "tf.reset_default_graph()\n",
    "tests.test_nn_image_inputs(neural_net_image_input)\n",
    "tests.test_nn_label_inputs(neural_net_label_input)\n",
    "tests.test_nn_keep_prob_inputs(neural_net_keep_prob_input)"
   ]
  },
  {
   "cell_type": "markdown",
   "metadata": {
    "deletable": true,
    "editable": true
   },
   "source": [
    "### Convolution and Max Pooling Layer\n",
    "Convolution layers have a lot of success with images. For this code cell, you should implement the function `conv2d_maxpool` to apply convolution then max pooling:\n",
    "* Create the weight and bias using `conv_ksize`, `conv_num_outputs` and the shape of `x_tensor`.\n",
    "* Apply a convolution to `x_tensor` using weight and `conv_strides`.\n",
    " * We recommend you use same padding, but you're welcome to use any padding.\n",
    "* Add bias\n",
    "* Add a nonlinear activation to the convolution.\n",
    "* Apply Max Pooling using `pool_ksize` and `pool_strides`.\n",
    " * We recommend you use same padding, but you're welcome to use any padding.\n",
    "\n",
    "**Note:** You **can't** use [TensorFlow Layers](https://www.tensorflow.org/api_docs/python/tf/layers) or [TensorFlow Layers (contrib)](https://www.tensorflow.org/api_guides/python/contrib.layers) for **this** layer, but you can still use TensorFlow's [Neural Network](https://www.tensorflow.org/api_docs/python/tf/nn) package. You may still use the shortcut option for all the **other** layers."
   ]
  },
  {
   "cell_type": "code",
   "execution_count": 9,
   "metadata": {
    "collapsed": false,
    "deletable": true,
    "editable": true
   },
   "outputs": [
    {
     "name": "stdout",
     "output_type": "stream",
     "text": [
      "Tests Passed\n"
     ]
    }
   ],
   "source": [
    "def conv2d_maxpool(x_tensor, conv_num_outputs, conv_ksize, conv_strides, pool_ksize, pool_strides):\n",
    "    \"\"\"\n",
    "    Apply convolution then max pooling to x_tensor\n",
    "    :param x_tensor: TensorFlow Tensor\n",
    "    :param conv_num_outputs: Number of outputs for the convolutional layer\n",
    "    :param conv_ksize: kernal size 2-D Tuple for the convolutional layer\n",
    "    :param conv_strides: Stride 2-D Tuple for convolution\n",
    "    :param pool_ksize: kernal size 2-D Tuple for pool\n",
    "    :param pool_strides: Stride 2-D Tuple for pool\n",
    "    : return: A tensor that represents convolution and max pooling of x_tensor\n",
    "    \"\"\"\n",
    "    weight = tf.Variable(tf.truncated_normal([conv_ksize[0], conv_ksize[1], x_tensor.get_shape().as_list()[3], conv_num_outputs],mean=0.0,stddev = 0.1))\n",
    "    bias = tf.Variable(tf.zeros(conv_num_outputs), trainable=True)\n",
    "    \n",
    "    conv_layer = tf.nn.conv2d(x_tensor, weight, strides = [1, conv_strides[0], conv_strides[1],1], padding = 'SAME')\n",
    "    conv_layer = tf.nn.bias_add(conv_layer,bias)\n",
    "    conv_layer = tf.nn.relu(conv_layer)\n",
    "    conv_layer = tf.nn.max_pool(conv_layer, [1,pool_ksize[0],pool_ksize[1],1],strides = [1,pool_strides[0],pool_strides[1],1], padding='SAME')\n",
    "\n",
    "    return conv_layer\n",
    "\n",
    "\n",
    "\"\"\"\n",
    "DON'T MODIFY ANYTHING IN THIS CELL THAT IS BELOW THIS LINE\n",
    "\"\"\"\n",
    "tests.test_con_pool(conv2d_maxpool)"
   ]
  },
  {
   "cell_type": "markdown",
   "metadata": {
    "deletable": true,
    "editable": true
   },
   "source": [
    "### Flatten Layer\n",
    "Implement the `flatten` function to change the dimension of `x_tensor` from a 4-D tensor to a 2-D tensor.  The output should be the shape (*Batch Size*, *Flattened Image Size*). Shortcut option: you can use classes from the [TensorFlow Layers](https://www.tensorflow.org/api_docs/python/tf/layers) or [TensorFlow Layers (contrib)](https://www.tensorflow.org/api_guides/python/contrib.layers) packages for this layer. For more of a challenge, only use other TensorFlow packages."
   ]
  },
  {
   "cell_type": "code",
   "execution_count": 10,
   "metadata": {
    "collapsed": false,
    "deletable": true,
    "editable": true
   },
   "outputs": [
    {
     "name": "stdout",
     "output_type": "stream",
     "text": [
      "1800\n",
      "Tests Passed\n"
     ]
    }
   ],
   "source": [
    "def flatten(x_tensor):\n",
    "    \"\"\"\n",
    "    Flatten x_tensor to (Batch Size, Flattened Image Size)\n",
    "    : x_tensor: A tensor of size (Batch Size, ...), where ... are the image dimensions.\n",
    "    : return: A tensor of size (Batch Size, Flattened Image Size).\n",
    "    \"\"\"\n",
    "    # TODO: Implement Function\n",
    "    flatImageSize = x_tensor.get_shape().as_list()[1]*x_tensor.get_shape().as_list()[2]*x_tensor.get_shape().as_list()[3]\n",
    "    print(flatImageSize)  \n",
    "    res = tf.reshape(x_tensor, [-1,flatImageSize])\n",
    "    return res\n",
    "\n",
    "\"\"\"\n",
    "DON'T MODIFY ANYTHING IN THIS CELL THAT IS BELOW THIS LINE\n",
    "\"\"\"\n",
    "tests.test_flatten(flatten)"
   ]
  },
  {
   "cell_type": "markdown",
   "metadata": {
    "deletable": true,
    "editable": true
   },
   "source": [
    "### Fully-Connected Layer\n",
    "Implement the `fully_conn` function to apply a fully connected layer to `x_tensor` with the shape (*Batch Size*, *num_outputs*). Shortcut option: you can use classes from the [TensorFlow Layers](https://www.tensorflow.org/api_docs/python/tf/layers) or [TensorFlow Layers (contrib)](https://www.tensorflow.org/api_guides/python/contrib.layers) packages for this layer. For more of a challenge, only use other TensorFlow packages."
   ]
  },
  {
   "cell_type": "code",
   "execution_count": 11,
   "metadata": {
    "collapsed": false,
    "deletable": true,
    "editable": true
   },
   "outputs": [
    {
     "name": "stdout",
     "output_type": "stream",
     "text": [
      "Tests Passed\n"
     ]
    }
   ],
   "source": [
    "def fully_conn(x_tensor, num_outputs):\n",
    "    \"\"\"\n",
    "    Apply a fully connected layer to x_tensor using weight and bias\n",
    "    : x_tensor: A 2-D tensor where the first dimension is batch size.\n",
    "    : num_outputs: The number of output that the new tensor should be.\n",
    "    : return: A 2-D tensor where the second dimension is num_outputs.\n",
    "    \"\"\"\n",
    "    W = tf.Variable(tf.truncated_normal([x_tensor.get_shape().as_list()[1],num_outputs],mean=0.0,stddev = 0.1))\n",
    "    b = tf.Variable(tf.zeros([num_outputs]))\n",
    "    res = tf.add(tf.matmul(x_tensor, W), b)\n",
    "    res = tf.nn.relu(res) \n",
    "    return res\n",
    "\n",
    "\n",
    "\"\"\"\n",
    "DON'T MODIFY ANYTHING IN THIS CELL THAT IS BELOW THIS LINE\n",
    "\"\"\"\n",
    "tests.test_fully_conn(fully_conn)"
   ]
  },
  {
   "cell_type": "markdown",
   "metadata": {
    "deletable": true,
    "editable": true
   },
   "source": [
    "### Output Layer\n",
    "Implement the `output` function to apply a fully connected layer to `x_tensor` with the shape (*Batch Size*, *num_outputs*). Shortcut option: you can use classes from the [TensorFlow Layers](https://www.tensorflow.org/api_docs/python/tf/layers) or [TensorFlow Layers (contrib)](https://www.tensorflow.org/api_guides/python/contrib.layers) packages for this layer. For more of a challenge, only use other TensorFlow packages.\n",
    "\n",
    "**Note:** Activation, softmax, or cross entropy should **not** be applied to this."
   ]
  },
  {
   "cell_type": "code",
   "execution_count": 12,
   "metadata": {
    "collapsed": false,
    "deletable": true,
    "editable": true
   },
   "outputs": [
    {
     "name": "stdout",
     "output_type": "stream",
     "text": [
      "Tests Passed\n"
     ]
    }
   ],
   "source": [
    "def output(x_tensor, num_outputs):\n",
    "    \"\"\"\n",
    "    Apply a output layer to x_tensor using weight and bias\n",
    "    : x_tensor: A 2-D tensor where the first dimension is batch size.\n",
    "    : num_outputs: The number of output that the new tensor should be.\n",
    "    : return: A 2-D tensor where the second dimension is num_outputs.\n",
    "    \"\"\"\n",
    "    # TODO: Implement Function\n",
    "    return fully_conn(x_tensor, num_outputs)\n",
    "\n",
    "\n",
    "\"\"\"\n",
    "DON'T MODIFY ANYTHING IN THIS CELL THAT IS BELOW THIS LINE\n",
    "\"\"\"\n",
    "tests.test_output(output)"
   ]
  },
  {
   "cell_type": "markdown",
   "metadata": {
    "deletable": true,
    "editable": true
   },
   "source": [
    "### Create Convolutional Model\n",
    "Implement the function `conv_net` to create a convolutional neural network model. The function takes in a batch of images, `x`, and outputs logits.  Use the layers you created above to create this model:\n",
    "\n",
    "* Apply 1, 2, or 3 Convolution and Max Pool layers\n",
    "* Apply a Flatten Layer\n",
    "* Apply 1, 2, or 3 Fully Connected Layers\n",
    "* Apply an Output Layer\n",
    "* Return the output\n",
    "* Apply [TensorFlow's Dropout](https://www.tensorflow.org/api_docs/python/tf/nn/dropout) to one or more layers in the model using `keep_prob`. "
   ]
  },
  {
   "cell_type": "code",
   "execution_count": 13,
   "metadata": {
    "collapsed": false,
    "deletable": true,
    "editable": true
   },
   "outputs": [
    {
     "name": "stdout",
     "output_type": "stream",
     "text": [
      "128\n",
      "128\n",
      "Neural Network Built!\n"
     ]
    }
   ],
   "source": [
    "def conv_net(x, keep_prob):\n",
    "    \"\"\"\n",
    "    Create a convolutional neural network model\n",
    "    : x: Placeholder tensor that holds image data.\n",
    "    : keep_prob: Placeholder tensor that hold dropout keep probability.\n",
    "    : return: Tensor that represents logits\n",
    "    \"\"\"\n",
    "    # TODO: Apply 1, 2, or 3 Convolution and Max Pool layers\n",
    "    #    Play around with different number of outputs, kernel size and stride\n",
    "    # Function Definition from Above:\n",
    "    #    conv2d_maxpool(x_tensor, conv_num_outputs, conv_ksize, conv_strides, pool_ksize, pool_strides)\n",
    "    x_tensor = x\n",
    "    \n",
    "    conv_num_outputs1 = 32\n",
    "    conv_num_outputs2 = 64\n",
    "    conv_num_outputs3 = 128\n",
    "    \n",
    "    conv_ksize = (4,4)\n",
    "    conv_strides = (2,2)\n",
    "    pool_ksize = (4,4)\n",
    "    pool_strides = (2,2)\n",
    "    num_outputs = 500\n",
    "\n",
    "    conv = conv2d_maxpool (x_tensor, conv_num_outputs1, conv_ksize, conv_strides, pool_ksize, pool_strides)\n",
    "    conv = conv2d_maxpool (conv, conv_num_outputs2, conv_ksize, conv_strides, pool_ksize, pool_strides)\n",
    "    conv = tf.nn.dropout (conv, tf.to_float(keep_prob))\n",
    "    conv = conv2d_maxpool (conv, conv_num_outputs3, conv_ksize, conv_strides, pool_ksize, pool_strides)\n",
    "    \n",
    "    # TODO: Apply a Flatten Layer\n",
    "    # Function Definition from Above:\n",
    "    #   flatten(x_tensor)\n",
    "    flat = flatten(conv)\n",
    "\n",
    "\n",
    "    # TODO: Apply 1, 2, or 3 Fully Connected Layers\n",
    "    #    Play around with different number of outputs\n",
    "    # Function Definition from Above:\n",
    "    #   fully_conn(x_tensor, num_outputs)\n",
    "    fully = fully_conn(flat, num_outputs)\n",
    "    fully = fully_conn(fully, num_outputs)\n",
    "    fully = tf.nn.dropout (fully, tf.to_float(keep_prob))\n",
    "    fully = fully_conn(fully, 30)\n",
    "    \n",
    "    # TODO: Apply an Output Layer\n",
    "    #    Set this to the number of classes\n",
    "    # Function Definition from Above:\n",
    "    #   output(x_tensor, num_outputs)\n",
    "    output_data = output(fully, 10)\n",
    "  \n",
    "    # TODO: return output\n",
    "    return output_data\n",
    "\n",
    "\n",
    "\"\"\"\n",
    "DON'T MODIFY ANYTHING IN THIS CELL THAT IS BELOW THIS LINE\n",
    "\"\"\"\n",
    "\n",
    "##############################\n",
    "## Build the Neural Network ##\n",
    "##############################\n",
    "\n",
    "# Remove previous weights, bias, inputs, etc..\n",
    "tf.reset_default_graph()\n",
    "\n",
    "# Inputs\n",
    "x = neural_net_image_input((32, 32, 3))\n",
    "y = neural_net_label_input(10)\n",
    "keep_prob = neural_net_keep_prob_input()\n",
    "\n",
    "# Model\n",
    "logits = conv_net(x, keep_prob)\n",
    "\n",
    "# Name logits Tensor, so that is can be loaded from disk after training\n",
    "logits = tf.identity(logits, name='logits')\n",
    "\n",
    "# Loss and Optimizer\n",
    "cost = tf.reduce_mean(tf.nn.softmax_cross_entropy_with_logits(logits=logits, labels=y))\n",
    "optimizer = tf.train.AdamOptimizer().minimize(cost)\n",
    "\n",
    "# Accuracy\n",
    "correct_pred = tf.equal(tf.argmax(logits, 1), tf.argmax(y, 1))\n",
    "accuracy = tf.reduce_mean(tf.cast(correct_pred, tf.float32), name='accuracy')\n",
    "\n",
    "tests.test_conv_net(conv_net)"
   ]
  },
  {
   "cell_type": "markdown",
   "metadata": {
    "deletable": true,
    "editable": true
   },
   "source": [
    "## Train the Neural Network\n",
    "### Single Optimization\n",
    "Implement the function `train_neural_network` to do a single optimization.  The optimization should use `optimizer` to optimize in `session` with a `feed_dict` of the following:\n",
    "* `x` for image input\n",
    "* `y` for labels\n",
    "* `keep_prob` for keep probability for dropout\n",
    "\n",
    "This function will be called for each batch, so `tf.global_variables_initializer()` has already been called.\n",
    "\n",
    "Note: Nothing needs to be returned. This function is only optimizing the neural network."
   ]
  },
  {
   "cell_type": "code",
   "execution_count": 14,
   "metadata": {
    "collapsed": false,
    "deletable": true,
    "editable": true
   },
   "outputs": [
    {
     "name": "stdout",
     "output_type": "stream",
     "text": [
      "Tests Passed\n"
     ]
    }
   ],
   "source": [
    "def train_neural_network(session, optimizer, keep_probability, feature_batch, label_batch):\n",
    "    \"\"\"\n",
    "    Optimize the session on a batch of images and labels\n",
    "    : session: Current TensorFlow session\n",
    "    : optimizer: TensorFlow optimizer function\n",
    "    : keep_probability: keep probability\n",
    "    : feature_batch: Batch of Numpy image data\n",
    "    : label_batch: Batch of Numpy label data\n",
    "    \"\"\"\n",
    "    # TODO: Implement Function\n",
    "    session.run(optimizer, feed_dict={x:feature_batch, y:label_batch, keep_prob:keep_probability})\n",
    "\n",
    "\n",
    "\"\"\"\n",
    "DON'T MODIFY ANYTHING IN THIS CELL THAT IS BELOW THIS LINE\n",
    "\"\"\"\n",
    "tests.test_train_nn(train_neural_network)"
   ]
  },
  {
   "cell_type": "markdown",
   "metadata": {
    "deletable": true,
    "editable": true
   },
   "source": [
    "### Show Stats\n",
    "Implement the function `print_stats` to print loss and validation accuracy.  Use the global variables `valid_features` and `valid_labels` to calculate validation accuracy.  Use a keep probability of `1.0` to calculate the loss and validation accuracy."
   ]
  },
  {
   "cell_type": "code",
   "execution_count": 15,
   "metadata": {
    "collapsed": false,
    "deletable": true,
    "editable": true
   },
   "outputs": [],
   "source": [
    "def print_stats(session, feature_batch, label_batch, cost, accuracy):\n",
    "    \"\"\"\n",
    "    Print information about loss and validation accuracy\n",
    "    : session: Current TensorFlow session\n",
    "    : feature_batch: Batch of Numpy image data\n",
    "    : label_batch: Batch of Numpy label data\n",
    "    : cost: TensorFlow cost function\n",
    "    : accuracy: TensorFlow accuracy function\n",
    "    \"\"\"\n",
    "    loss = session.run(cost, feed_dict = {x: feature_batch,y: label_batch, keep_prob: 1.0})\n",
    "    acc = session.run(accuracy,feed_dict = {x: valid_features, y: valid_labels, keep_prob: 1.0})\n",
    "    print('Loss at {}'.format(loss), 'Validation Accuracy at {}'.format(acc))"
   ]
  },
  {
   "cell_type": "markdown",
   "metadata": {
    "deletable": true,
    "editable": true
   },
   "source": [
    "### Hyperparameters\n",
    "Tune the following parameters:\n",
    "* Set `epochs` to the number of iterations until the network stops learning or start overfitting\n",
    "* Set `batch_size` to the highest number that your machine has memory for.  Most people set them to common sizes of memory:\n",
    " * 64\n",
    " * 128\n",
    " * 256\n",
    " * ...\n",
    "* Set `keep_probability` to the probability of keeping a node using dropout"
   ]
  },
  {
   "cell_type": "code",
   "execution_count": 20,
   "metadata": {
    "collapsed": true,
    "deletable": true,
    "editable": true
   },
   "outputs": [],
   "source": [
    "# TODO: Tune Parameters\n",
    "epochs = 25\n",
    "batch_size = 128\n",
    "keep_probability = 0.70"
   ]
  },
  {
   "cell_type": "markdown",
   "metadata": {
    "deletable": true,
    "editable": true
   },
   "source": [
    "### Train on a Single CIFAR-10 Batch\n",
    "Instead of training the neural network on all the CIFAR-10 batches of data, let's use a single batch. This should save time while you iterate on the model to get a better accuracy.  Once the final validation accuracy is 50% or greater, run the model on all the data in the next section."
   ]
  },
  {
   "cell_type": "code",
   "execution_count": 21,
   "metadata": {
    "collapsed": false,
    "deletable": true,
    "editable": true
   },
   "outputs": [
    {
     "name": "stdout",
     "output_type": "stream",
     "text": [
      "Checking the Training on a Single Batch...\n",
      "Epoch  1, CIFAR-10 Batch 1:  Loss at 2.1628880500793457 Validation Accuracy at 0.2280000001192093\n",
      "Epoch  2, CIFAR-10 Batch 1:  Loss at 1.8971458673477173 Validation Accuracy at 0.3527999818325043\n",
      "Epoch  3, CIFAR-10 Batch 1:  Loss at 1.691305160522461 Validation Accuracy at 0.3921999931335449\n",
      "Epoch  4, CIFAR-10 Batch 1:  Loss at 1.6086926460266113 Validation Accuracy at 0.4285999536514282\n",
      "Epoch  5, CIFAR-10 Batch 1:  Loss at 1.5024967193603516 Validation Accuracy at 0.41679996252059937\n",
      "Epoch  6, CIFAR-10 Batch 1:  Loss at 1.3862736225128174 Validation Accuracy at 0.4596000015735626\n",
      "Epoch  7, CIFAR-10 Batch 1:  Loss at 1.228779673576355 Validation Accuracy at 0.47999992966651917\n",
      "Epoch  8, CIFAR-10 Batch 1:  Loss at 1.1441304683685303 Validation Accuracy at 0.5011999607086182\n",
      "Epoch  9, CIFAR-10 Batch 1:  Loss at 1.0563207864761353 Validation Accuracy at 0.5067999362945557\n",
      "Epoch 10, CIFAR-10 Batch 1:  Loss at 1.0240546464920044 Validation Accuracy at 0.5151999592781067\n",
      "Epoch 11, CIFAR-10 Batch 1:  Loss at 1.0349658727645874 Validation Accuracy at 0.5123999118804932\n",
      "Epoch 12, CIFAR-10 Batch 1:  Loss at 1.02659273147583 Validation Accuracy at 0.5199999809265137\n",
      "Epoch 13, CIFAR-10 Batch 1:  Loss at 0.9388507604598999 Validation Accuracy at 0.5223999619483948\n",
      "Epoch 14, CIFAR-10 Batch 1:  Loss at 0.9017670154571533 Validation Accuracy at 0.5343999266624451\n",
      "Epoch 15, CIFAR-10 Batch 1:  Loss at 0.832442581653595 Validation Accuracy at 0.5385999083518982\n",
      "Epoch 16, CIFAR-10 Batch 1:  Loss at 0.805351972579956 Validation Accuracy at 0.5321999788284302\n",
      "Epoch 17, CIFAR-10 Batch 1:  Loss at 0.7861974835395813 Validation Accuracy at 0.5459998846054077\n",
      "Epoch 18, CIFAR-10 Batch 1:  Loss at 0.6840815544128418 Validation Accuracy at 0.5557999610900879\n",
      "Epoch 19, CIFAR-10 Batch 1:  Loss at 0.6443536877632141 Validation Accuracy at 0.515999972820282\n",
      "Epoch 20, CIFAR-10 Batch 1:  Loss at 0.6123126745223999 Validation Accuracy at 0.5363999605178833\n",
      "Epoch 21, CIFAR-10 Batch 1:  Loss at 0.5873633623123169 Validation Accuracy at 0.5381999611854553\n",
      "Epoch 22, CIFAR-10 Batch 1:  Loss at 0.5462713241577148 Validation Accuracy at 0.5429999232292175\n",
      "Epoch 23, CIFAR-10 Batch 1:  Loss at 0.4953790605068207 Validation Accuracy at 0.5539999604225159\n",
      "Epoch 24, CIFAR-10 Batch 1:  Loss at 0.47827690839767456 Validation Accuracy at 0.5405999422073364\n",
      "Epoch 25, CIFAR-10 Batch 1:  Loss at 0.4259476065635681 Validation Accuracy at 0.5379999279975891\n"
     ]
    }
   ],
   "source": [
    "\"\"\"\n",
    "DON'T MODIFY ANYTHING IN THIS CELL\n",
    "\"\"\"\n",
    "print('Checking the Training on a Single Batch...')\n",
    "with tf.Session() as sess:\n",
    "    # Initializing the variables\n",
    "    sess.run(tf.global_variables_initializer())\n",
    "    \n",
    "    # Training cycle\n",
    "    for epoch in range(epochs):\n",
    "        batch_i = 1\n",
    "        for batch_features, batch_labels in helper.load_preprocess_training_batch(batch_i, batch_size):\n",
    "            train_neural_network(sess, optimizer, keep_probability, batch_features, batch_labels)\n",
    "        print('Epoch {:>2}, CIFAR-10 Batch {}:  '.format(epoch + 1, batch_i), end='')\n",
    "        print_stats(sess, batch_features, batch_labels, cost, accuracy)"
   ]
  },
  {
   "cell_type": "markdown",
   "metadata": {
    "deletable": true,
    "editable": true
   },
   "source": [
    "### Fully Train the Model\n",
    "Now that you got a good accuracy with a single CIFAR-10 batch, try it with all five batches."
   ]
  },
  {
   "cell_type": "code",
   "execution_count": 22,
   "metadata": {
    "collapsed": false,
    "deletable": true,
    "editable": true
   },
   "outputs": [
    {
     "name": "stdout",
     "output_type": "stream",
     "text": [
      "Training...\n",
      "Epoch  1, CIFAR-10 Batch 1:  Loss at 2.3023080825805664 Validation Accuracy at 0.14800000190734863\n",
      "Epoch  1, CIFAR-10 Batch 2:  Loss at 2.092688798904419 Validation Accuracy at 0.22199998795986176\n",
      "Epoch  1, CIFAR-10 Batch 3:  Loss at 1.7105551958084106 Validation Accuracy at 0.3158000111579895\n",
      "Epoch  1, CIFAR-10 Batch 4:  Loss at 1.8605997562408447 Validation Accuracy at 0.36419999599456787\n",
      "Epoch  1, CIFAR-10 Batch 5:  Loss at 1.772325873374939 Validation Accuracy at 0.3831999897956848\n",
      "Epoch  2, CIFAR-10 Batch 1:  Loss at 1.758708119392395 Validation Accuracy at 0.394599974155426\n",
      "Epoch  2, CIFAR-10 Batch 2:  Loss at 1.682774543762207 Validation Accuracy at 0.4155999422073364\n",
      "Epoch  2, CIFAR-10 Batch 3:  Loss at 1.3699804544448853 Validation Accuracy at 0.42079997062683105\n",
      "Epoch  2, CIFAR-10 Batch 4:  Loss at 1.555821180343628 Validation Accuracy at 0.4299999475479126\n",
      "Epoch  2, CIFAR-10 Batch 5:  Loss at 1.7141410112380981 Validation Accuracy at 0.4363999664783478\n",
      "Epoch  3, CIFAR-10 Batch 1:  Loss at 1.5545883178710938 Validation Accuracy at 0.44040000438690186\n",
      "Epoch  3, CIFAR-10 Batch 2:  Loss at 1.4455697536468506 Validation Accuracy at 0.4560000002384186\n",
      "Epoch  3, CIFAR-10 Batch 3:  Loss at 1.1362088918685913 Validation Accuracy at 0.45459994673728943\n",
      "Epoch  3, CIFAR-10 Batch 4:  Loss at 1.4231154918670654 Validation Accuracy at 0.5053999423980713\n",
      "Epoch  3, CIFAR-10 Batch 5:  Loss at 1.3859388828277588 Validation Accuracy at 0.5135999321937561\n",
      "Epoch  4, CIFAR-10 Batch 1:  Loss at 1.2548658847808838 Validation Accuracy at 0.5211999416351318\n",
      "Epoch  4, CIFAR-10 Batch 2:  Loss at 1.2750264406204224 Validation Accuracy at 0.5129998922348022\n",
      "Epoch  4, CIFAR-10 Batch 3:  Loss at 1.0799375772476196 Validation Accuracy at 0.5173999667167664\n",
      "Epoch  4, CIFAR-10 Batch 4:  Loss at 1.2647864818572998 Validation Accuracy at 0.5277999639511108\n",
      "Epoch  4, CIFAR-10 Batch 5:  Loss at 1.3193598985671997 Validation Accuracy at 0.5099999904632568\n",
      "Epoch  5, CIFAR-10 Batch 1:  Loss at 1.251112461090088 Validation Accuracy at 0.5401999354362488\n",
      "Epoch  5, CIFAR-10 Batch 2:  Loss at 1.267638921737671 Validation Accuracy at 0.5315999388694763\n",
      "Epoch  5, CIFAR-10 Batch 3:  Loss at 0.8684905767440796 Validation Accuracy at 0.5497999787330627\n",
      "Epoch  5, CIFAR-10 Batch 4:  Loss at 1.1307458877563477 Validation Accuracy at 0.5509999394416809\n",
      "Epoch  5, CIFAR-10 Batch 5:  Loss at 1.0409005880355835 Validation Accuracy at 0.5801998376846313\n",
      "Epoch  6, CIFAR-10 Batch 1:  Loss at 1.144210696220398 Validation Accuracy at 0.5699999332427979\n",
      "Epoch  6, CIFAR-10 Batch 2:  Loss at 0.9625228643417358 Validation Accuracy at 0.5703999400138855\n",
      "Epoch  6, CIFAR-10 Batch 3:  Loss at 0.8318547010421753 Validation Accuracy at 0.5817999243736267\n",
      "Epoch  6, CIFAR-10 Batch 4:  Loss at 1.1262632608413696 Validation Accuracy at 0.5851999521255493\n",
      "Epoch  6, CIFAR-10 Batch 5:  Loss at 1.0098880529403687 Validation Accuracy at 0.5929998755455017\n",
      "Epoch  7, CIFAR-10 Batch 1:  Loss at 1.006782054901123 Validation Accuracy at 0.5893999338150024\n",
      "Epoch  7, CIFAR-10 Batch 2:  Loss at 0.9444642663002014 Validation Accuracy at 0.5849999189376831\n",
      "Epoch  7, CIFAR-10 Batch 3:  Loss at 0.6880146861076355 Validation Accuracy at 0.5935998558998108\n",
      "Epoch  7, CIFAR-10 Batch 4:  Loss at 0.9287707805633545 Validation Accuracy at 0.5907999277114868\n",
      "Epoch  7, CIFAR-10 Batch 5:  Loss at 0.9239670038223267 Validation Accuracy at 0.5959999561309814\n",
      "Epoch  8, CIFAR-10 Batch 1:  Loss at 0.9737311005592346 Validation Accuracy at 0.6055999398231506\n",
      "Epoch  8, CIFAR-10 Batch 2:  Loss at 0.7980496883392334 Validation Accuracy at 0.6131998896598816\n",
      "Epoch  8, CIFAR-10 Batch 3:  Loss at 0.6738225221633911 Validation Accuracy at 0.5915999412536621\n",
      "Epoch  8, CIFAR-10 Batch 4:  Loss at 0.8792318105697632 Validation Accuracy at 0.6135998964309692\n",
      "Epoch  8, CIFAR-10 Batch 5:  Loss at 0.8844836950302124 Validation Accuracy at 0.600399911403656\n",
      "Epoch  9, CIFAR-10 Batch 1:  Loss at 0.91483473777771 Validation Accuracy at 0.6153998970985413\n",
      "Epoch  9, CIFAR-10 Batch 2:  Loss at 0.780281662940979 Validation Accuracy at 0.6249999403953552\n",
      "Epoch  9, CIFAR-10 Batch 3:  Loss at 0.6230781674385071 Validation Accuracy at 0.6095999479293823\n",
      "Epoch  9, CIFAR-10 Batch 4:  Loss at 0.8424131870269775 Validation Accuracy at 0.6167999505996704\n",
      "Epoch  9, CIFAR-10 Batch 5:  Loss at 0.7478929758071899 Validation Accuracy at 0.6177999377250671\n",
      "Epoch 10, CIFAR-10 Batch 1:  Loss at 0.8861603736877441 Validation Accuracy at 0.6167998909950256\n",
      "Epoch 10, CIFAR-10 Batch 2:  Loss at 0.765381932258606 Validation Accuracy at 0.6215999126434326\n",
      "Epoch 10, CIFAR-10 Batch 3:  Loss at 0.5691571831703186 Validation Accuracy at 0.6175999045372009\n",
      "Epoch 10, CIFAR-10 Batch 4:  Loss at 0.819044291973114 Validation Accuracy at 0.61819988489151\n",
      "Epoch 10, CIFAR-10 Batch 5:  Loss at 0.6916470527648926 Validation Accuracy at 0.6237999200820923\n",
      "Epoch 11, CIFAR-10 Batch 1:  Loss at 0.821740448474884 Validation Accuracy at 0.6227998733520508\n",
      "Epoch 11, CIFAR-10 Batch 2:  Loss at 0.7272329330444336 Validation Accuracy at 0.6225998997688293\n",
      "Epoch 11, CIFAR-10 Batch 3:  Loss at 0.5608859658241272 Validation Accuracy at 0.6183999180793762\n",
      "Epoch 11, CIFAR-10 Batch 4:  Loss at 0.7222958207130432 Validation Accuracy at 0.6317999362945557\n",
      "Epoch 11, CIFAR-10 Batch 5:  Loss at 0.5874601602554321 Validation Accuracy at 0.6307998895645142\n",
      "Epoch 12, CIFAR-10 Batch 1:  Loss at 0.8298346996307373 Validation Accuracy at 0.6187999248504639\n",
      "Epoch 12, CIFAR-10 Batch 2:  Loss at 0.6845682859420776 Validation Accuracy at 0.6133999228477478\n",
      "Epoch 12, CIFAR-10 Batch 3:  Loss at 0.5783646702766418 Validation Accuracy at 0.6233999133110046\n",
      "Epoch 12, CIFAR-10 Batch 4:  Loss at 0.6907908916473389 Validation Accuracy at 0.6467998623847961\n",
      "Epoch 12, CIFAR-10 Batch 5:  Loss at 0.6389436721801758 Validation Accuracy at 0.6189999580383301\n",
      "Epoch 13, CIFAR-10 Batch 1:  Loss at 0.7821290493011475 Validation Accuracy at 0.6365998983383179\n",
      "Epoch 13, CIFAR-10 Batch 2:  Loss at 0.7428404092788696 Validation Accuracy at 0.6177999377250671\n",
      "Epoch 13, CIFAR-10 Batch 3:  Loss at 0.5098104476928711 Validation Accuracy at 0.6299998760223389\n",
      "Epoch 13, CIFAR-10 Batch 4:  Loss at 0.6965258121490479 Validation Accuracy at 0.6427998542785645\n",
      "Epoch 13, CIFAR-10 Batch 5:  Loss at 0.5271776914596558 Validation Accuracy at 0.6441999673843384\n",
      "Epoch 14, CIFAR-10 Batch 1:  Loss at 0.7960379123687744 Validation Accuracy at 0.6491998434066772\n",
      "Epoch 14, CIFAR-10 Batch 2:  Loss at 0.6390157341957092 Validation Accuracy at 0.6341999173164368\n",
      "Epoch 14, CIFAR-10 Batch 3:  Loss at 0.4930976629257202 Validation Accuracy at 0.6331998705863953\n",
      "Epoch 14, CIFAR-10 Batch 4:  Loss at 0.5989675521850586 Validation Accuracy at 0.6415998935699463\n",
      "Epoch 14, CIFAR-10 Batch 5:  Loss at 0.44083377718925476 Validation Accuracy at 0.6413999199867249\n",
      "Epoch 15, CIFAR-10 Batch 1:  Loss at 0.7040278911590576 Validation Accuracy at 0.6375998854637146\n",
      "Epoch 15, CIFAR-10 Batch 2:  Loss at 0.5532215237617493 Validation Accuracy at 0.6359999179840088\n",
      "Epoch 15, CIFAR-10 Batch 3:  Loss at 0.48522934317588806 Validation Accuracy at 0.6497998833656311\n",
      "Epoch 15, CIFAR-10 Batch 4:  Loss at 0.5580893754959106 Validation Accuracy at 0.6419999003410339\n",
      "Epoch 15, CIFAR-10 Batch 5:  Loss at 0.44977766275405884 Validation Accuracy at 0.632599949836731\n",
      "Epoch 16, CIFAR-10 Batch 1:  Loss at 0.6829144358634949 Validation Accuracy at 0.6515998840332031\n",
      "Epoch 16, CIFAR-10 Batch 2:  Loss at 0.49212199449539185 Validation Accuracy at 0.6493998765945435\n",
      "Epoch 16, CIFAR-10 Batch 3:  Loss at 0.42859524488449097 Validation Accuracy at 0.6441999077796936\n",
      "Epoch 16, CIFAR-10 Batch 4:  Loss at 0.5004792213439941 Validation Accuracy at 0.6539998650550842\n",
      "Epoch 16, CIFAR-10 Batch 5:  Loss at 0.4272513687610626 Validation Accuracy at 0.6287999153137207\n",
      "Epoch 17, CIFAR-10 Batch 1:  Loss at 0.64688640832901 Validation Accuracy at 0.64739990234375\n",
      "Epoch 17, CIFAR-10 Batch 2:  Loss at 0.48322612047195435 Validation Accuracy at 0.638999879360199\n",
      "Epoch 17, CIFAR-10 Batch 3:  Loss at 0.40406376123428345 Validation Accuracy at 0.6355999112129211\n",
      "Epoch 17, CIFAR-10 Batch 4:  Loss at 0.5284013748168945 Validation Accuracy at 0.6517999172210693\n",
      "Epoch 17, CIFAR-10 Batch 5:  Loss at 0.4065883755683899 Validation Accuracy at 0.6407999396324158\n",
      "Epoch 18, CIFAR-10 Batch 1:  Loss at 0.6740676164627075 Validation Accuracy at 0.6439999341964722\n",
      "Epoch 18, CIFAR-10 Batch 2:  Loss at 0.4851500391960144 Validation Accuracy at 0.6353998780250549\n",
      "Epoch 18, CIFAR-10 Batch 3:  Loss at 0.41643670201301575 Validation Accuracy at 0.6485998630523682\n",
      "Epoch 18, CIFAR-10 Batch 4:  Loss at 0.5031517744064331 Validation Accuracy at 0.642599880695343\n",
      "Epoch 18, CIFAR-10 Batch 5:  Loss at 0.44410666823387146 Validation Accuracy at 0.6311998963356018\n",
      "Epoch 19, CIFAR-10 Batch 1:  Loss at 0.6196523308753967 Validation Accuracy at 0.6511998176574707\n",
      "Epoch 19, CIFAR-10 Batch 2:  Loss at 0.48980340361595154 Validation Accuracy at 0.6453999280929565\n",
      "Epoch 19, CIFAR-10 Batch 3:  Loss at 0.4149680435657501 Validation Accuracy at 0.6479999423027039\n",
      "Epoch 19, CIFAR-10 Batch 4:  Loss at 0.47437554597854614 Validation Accuracy at 0.6527999043464661\n",
      "Epoch 19, CIFAR-10 Batch 5:  Loss at 0.3718285858631134 Validation Accuracy at 0.648999810218811\n",
      "Epoch 20, CIFAR-10 Batch 1:  Loss at 0.5708478093147278 Validation Accuracy at 0.6451998949050903\n",
      "Epoch 20, CIFAR-10 Batch 2:  Loss at 0.4099869728088379 Validation Accuracy at 0.6539998650550842\n",
      "Epoch 20, CIFAR-10 Batch 3:  Loss at 0.39539507031440735 Validation Accuracy at 0.6543998718261719\n",
      "Epoch 20, CIFAR-10 Batch 4:  Loss at 0.4283001720905304 Validation Accuracy at 0.6639998555183411\n",
      "Epoch 20, CIFAR-10 Batch 5:  Loss at 0.3584705591201782 Validation Accuracy at 0.6387999057769775\n",
      "Epoch 21, CIFAR-10 Batch 1:  Loss at 0.6496058702468872 Validation Accuracy at 0.6545999050140381\n",
      "Epoch 21, CIFAR-10 Batch 2:  Loss at 0.4083738625049591 Validation Accuracy at 0.645599901676178\n",
      "Epoch 21, CIFAR-10 Batch 3:  Loss at 0.36705586314201355 Validation Accuracy at 0.6495999097824097\n",
      "Epoch 21, CIFAR-10 Batch 4:  Loss at 0.44486963748931885 Validation Accuracy at 0.6519998908042908\n",
      "Epoch 21, CIFAR-10 Batch 5:  Loss at 0.3231858015060425 Validation Accuracy at 0.6511998772621155\n",
      "Epoch 22, CIFAR-10 Batch 1:  Loss at 0.5384374260902405 Validation Accuracy at 0.6475998759269714\n",
      "Epoch 22, CIFAR-10 Batch 2:  Loss at 0.3874657154083252 Validation Accuracy at 0.639799952507019\n",
      "Epoch 22, CIFAR-10 Batch 3:  Loss at 0.3776405155658722 Validation Accuracy at 0.6391999125480652\n",
      "Epoch 22, CIFAR-10 Batch 4:  Loss at 0.40234050154685974 Validation Accuracy at 0.6483998894691467\n",
      "Epoch 22, CIFAR-10 Batch 5:  Loss at 0.3328288495540619 Validation Accuracy at 0.6485999226570129\n",
      "Epoch 23, CIFAR-10 Batch 1:  Loss at 0.517789900302887 Validation Accuracy at 0.6469998955726624\n",
      "Epoch 23, CIFAR-10 Batch 2:  Loss at 0.3640172779560089 Validation Accuracy at 0.6487998962402344\n",
      "Epoch 23, CIFAR-10 Batch 3:  Loss at 0.3389768898487091 Validation Accuracy at 0.644399881362915\n",
      "Epoch 23, CIFAR-10 Batch 4:  Loss at 0.370180606842041 Validation Accuracy at 0.6551998853683472\n",
      "Epoch 23, CIFAR-10 Batch 5:  Loss at 0.2792336046695709 Validation Accuracy at 0.6561998128890991\n",
      "Epoch 24, CIFAR-10 Batch 1:  Loss at 0.5360869765281677 Validation Accuracy at 0.656799852848053\n",
      "Epoch 24, CIFAR-10 Batch 2:  Loss at 0.35080376267433167 Validation Accuracy at 0.6301999092102051\n",
      "Epoch 24, CIFAR-10 Batch 3:  Loss at 0.3453633487224579 Validation Accuracy at 0.6453999280929565\n",
      "Epoch 24, CIFAR-10 Batch 4:  Loss at 0.37210536003112793 Validation Accuracy at 0.6435999274253845\n",
      "Epoch 24, CIFAR-10 Batch 5:  Loss at 0.28812989592552185 Validation Accuracy at 0.6475999355316162\n",
      "Epoch 25, CIFAR-10 Batch 1:  Loss at 0.558536946773529 Validation Accuracy at 0.6427999138832092\n",
      "Epoch 25, CIFAR-10 Batch 2:  Loss at 0.3459317088127136 Validation Accuracy at 0.649199903011322\n",
      "Epoch 25, CIFAR-10 Batch 3:  Loss at 0.31469494104385376 Validation Accuracy at 0.6435998678207397\n",
      "Epoch 25, CIFAR-10 Batch 4:  Loss at 0.32712388038635254 Validation Accuracy at 0.6559998989105225\n",
      "Epoch 25, CIFAR-10 Batch 5:  Loss at 0.29410994052886963 Validation Accuracy at 0.6347999572753906\n"
     ]
    }
   ],
   "source": [
    "\"\"\"\n",
    "DON'T MODIFY ANYTHING IN THIS CELL\n",
    "\"\"\"\n",
    "save_model_path = './image_classification'\n",
    "\n",
    "print('Training...')\n",
    "with tf.Session() as sess:\n",
    "    # Initializing the variables\n",
    "    sess.run(tf.global_variables_initializer())\n",
    "    \n",
    "    # Training cycle\n",
    "    for epoch in range(epochs):\n",
    "        # Loop over all batches\n",
    "        n_batches = 5\n",
    "        for batch_i in range(1, n_batches + 1):\n",
    "            for batch_features, batch_labels in helper.load_preprocess_training_batch(batch_i, batch_size):\n",
    "                train_neural_network(sess, optimizer, keep_probability, batch_features, batch_labels)\n",
    "            print('Epoch {:>2}, CIFAR-10 Batch {}:  '.format(epoch + 1, batch_i), end='')\n",
    "            print_stats(sess, batch_features, batch_labels, cost, accuracy)\n",
    "            \n",
    "    # Save Model\n",
    "    saver = tf.train.Saver()\n",
    "    save_path = saver.save(sess, save_model_path)"
   ]
  },
  {
   "cell_type": "markdown",
   "metadata": {
    "deletable": true,
    "editable": true
   },
   "source": [
    "# Checkpoint\n",
    "The model has been saved to disk.\n",
    "## Test Model\n",
    "Test your model against the test dataset.  This will be your final accuracy. You should have an accuracy greater than 50%. If you don't, keep tweaking the model architecture and parameters."
   ]
  },
  {
   "cell_type": "code",
   "execution_count": 23,
   "metadata": {
    "collapsed": false,
    "deletable": true,
    "editable": true
   },
   "outputs": [
    {
     "name": "stdout",
     "output_type": "stream",
     "text": [
      "Testing Accuracy: 0.6442840189873418\n",
      "\n"
     ]
    },
    {
     "data": {
      "image/png": "[encoded data removed]",
      "text/plain": [
       "<matplotlib.figure.Figure at 0x7fe3d5608f28>"
      ]
     },
     "metadata": {
      "image/png": {
       "height": 319,
       "width": 355
      }
     },
     "output_type": "display_data"
    }
   ],
   "source": [
    "\"\"\"\n",
    "DON'T MODIFY ANYTHING IN THIS CELL\n",
    "\"\"\"\n",
    "%matplotlib inline\n",
    "%config InlineBackend.figure_format = 'retina'\n",
    "\n",
    "import tensorflow as tf\n",
    "import pickle\n",
    "import helper\n",
    "import random\n",
    "\n",
    "# Set batch size if not already set\n",
    "try:\n",
    "    if batch_size:\n",
    "        pass\n",
    "except NameError:\n",
    "    batch_size = 64\n",
    "\n",
    "save_model_path = './image_classification'\n",
    "n_samples = 4\n",
    "top_n_predictions = 3\n",
    "\n",
    "def test_model():\n",
    "    \"\"\"\n",
    "    Test the saved model against the test dataset\n",
    "    \"\"\"\n",
    "\n",
    "    test_features, test_labels = pickle.load(open('preprocess_training.p', mode='rb'))\n",
    "    loaded_graph = tf.Graph()\n",
    "\n",
    "    with tf.Session(graph=loaded_graph) as sess:\n",
    "        # Load model\n",
    "        loader = tf.train.import_meta_graph(save_model_path + '.meta')\n",
    "        loader.restore(sess, save_model_path)\n",
    "\n",
    "        # Get Tensors from loaded model\n",
    "        loaded_x = loaded_graph.get_tensor_by_name('x:0')\n",
    "        loaded_y = loaded_graph.get_tensor_by_name('y:0')\n",
    "        loaded_keep_prob = loaded_graph.get_tensor_by_name('keep_prob:0')\n",
    "        loaded_logits = loaded_graph.get_tensor_by_name('logits:0')\n",
    "        loaded_acc = loaded_graph.get_tensor_by_name('accuracy:0')\n",
    "        \n",
    "        # Get accuracy in batches for memory limitations\n",
    "        test_batch_acc_total = 0\n",
    "        test_batch_count = 0\n",
    "        \n",
    "        for train_feature_batch, train_label_batch in helper.batch_features_labels(test_features, test_labels, batch_size):\n",
    "            test_batch_acc_total += sess.run(\n",
    "                loaded_acc,\n",
    "                feed_dict={loaded_x: train_feature_batch, loaded_y: train_label_batch, loaded_keep_prob: 1.0})\n",
    "            test_batch_count += 1\n",
    "\n",
    "        print('Testing Accuracy: {}\\n'.format(test_batch_acc_total/test_batch_count))\n",
    "\n",
    "        # Print Random Samples\n",
    "        random_test_features, random_test_labels = tuple(zip(*random.sample(list(zip(test_features, test_labels)), n_samples)))\n",
    "        random_test_predictions = sess.run(\n",
    "            tf.nn.top_k(tf.nn.softmax(loaded_logits), top_n_predictions),\n",
    "            feed_dict={loaded_x: random_test_features, loaded_y: random_test_labels, loaded_keep_prob: 1.0})\n",
    "        helper.display_image_predictions(random_test_features, random_test_labels, random_test_predictions)\n",
    "\n",
    "\n",
    "test_model()"
   ]
  },
  {
   "cell_type": "markdown",
   "metadata": {
    "deletable": true,
    "editable": true
   },
   "source": [
    "## Why 50-80% Accuracy?\n",
    "You might be wondering why you can't get an accuracy any higher. First things first, 50% isn't bad for a simple CNN.  Pure guessing would get you 10% accuracy. However, you might notice people are getting scores [well above 80%](http://rodrigob.github.io/are_we_there_yet/build/classification_datasets_results.html#43494641522d3130).  That's because we haven't taught you all there is to know about neural networks. We still need to cover a few more techniques.\n",
    "## Submitting This Project\n",
    "When submitting this project, make sure to run all the cells before saving the notebook.  Save the notebook file as \"dlnd_image_classification.ipynb\" and save it as a HTML file under \"File\" -> \"Download as\".  Include the \"helper.py\" and \"problem_unittests.py\" files in your submission."
   ]
  }
 ],
 "metadata": {
  "kernelspec": {
   "display_name": "Python 3",
   "language": "python",
   "name": "python3"
  },
  "language_info": {
   "codemirror_mode": {
    "name": "ipython",
    "version": 3
   },
   "file_extension": ".py",
   "mimetype": "text/x-python",
   "name": "python",
   "nbconvert_exporter": "python",
   "pygments_lexer": "ipython3",
   "version": "3.5.2"
  },
  "widgets": {
   "state": {},
   "version": "1.1.2"
  }
 },
 "nbformat": 4,
 "nbformat_minor": 0
}
